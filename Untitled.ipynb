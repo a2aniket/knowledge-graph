{
 "cells": [
  {
   "cell_type": "code",
   "execution_count": 11,
   "id": "f7889270-1e43-41a0-8e16-5c63ac6f3927",
   "metadata": {},
   "outputs": [
    {
     "name": "stdout",
     "output_type": "stream",
     "text": [
      "Collecting neo4j\n",
      "  Downloading neo4j-5.27.0-py3-none-any.whl.metadata (5.9 kB)\n",
      "Requirement already satisfied: pytz in c:\\users\\thora\\appdata\\local\\programs\\python\\python312\\lib\\site-packages (from neo4j) (2024.2)\n",
      "Downloading neo4j-5.27.0-py3-none-any.whl (301 kB)\n",
      "Installing collected packages: neo4j\n",
      "Successfully installed neo4j-5.27.0\n"
     ]
    },
    {
     "name": "stderr",
     "output_type": "stream",
     "text": [
      "\n",
      "[notice] A new release of pip is available: 24.2 -> 24.3.1\n",
      "[notice] To update, run: python.exe -m pip install --upgrade pip\n"
     ]
    }
   ],
   "source": [
    "!pip install neo4j"
   ]
  },
  {
   "cell_type": "code",
   "execution_count": 1,
   "id": "ef7c7caf-b72c-4c98-ab85-e46c4ebd8539",
   "metadata": {},
   "outputs": [],
   "source": [
    "import pandas as pd"
   ]
  },
  {
   "cell_type": "code",
   "execution_count": 6,
   "id": "35f569c3-f662-40ac-b6c7-1f01ebebd2b3",
   "metadata": {},
   "outputs": [
    {
     "name": "stderr",
     "output_type": "stream",
     "text": [
      "C:\\Users\\thora\\AppData\\Local\\Temp\\ipykernel_16972\\963437689.py:1: DtypeWarning: Columns (3,8) have mixed types. Specify dtype option on import or set low_memory=False.\n",
      "  data=pd.read_csv(\"C:/Users/thora/Downloads/kg.csv\")\n"
     ]
    }
   ],
   "source": [
    "data=pd.read_csv(\"C:/Users/thora/Downloads/kg.csv\")"
   ]
  },
  {
   "cell_type": "code",
   "execution_count": 7,
   "id": "d035a1bb-46ca-4b24-83a2-c132e3fd7ff9",
   "metadata": {},
   "outputs": [
    {
     "name": "stdout",
     "output_type": "stream",
     "text": [
      "<class 'pandas.core.frame.DataFrame'>\n",
      "RangeIndex: 8100498 entries, 0 to 8100497\n",
      "Data columns (total 12 columns):\n",
      " #   Column            Dtype \n",
      "---  ------            ----- \n",
      " 0   relation          object\n",
      " 1   display_relation  object\n",
      " 2   x_index           int64 \n",
      " 3   x_id              object\n",
      " 4   x_type            object\n",
      " 5   x_name            object\n",
      " 6   x_source          object\n",
      " 7   y_index           int64 \n",
      " 8   y_id              object\n",
      " 9   y_type            object\n",
      " 10  y_name            object\n",
      " 11  y_source          object\n",
      "dtypes: int64(2), object(10)\n",
      "memory usage: 741.6+ MB\n"
     ]
    }
   ],
   "source": [
    "data.info()\n"
   ]
  },
  {
   "cell_type": "code",
   "execution_count": 8,
   "id": "3249afde-9e9d-4779-a9ba-b1732f28fdd7",
   "metadata": {},
   "outputs": [
    {
     "data": {
      "text/html": [
       "<div>\n",
       "<style scoped>\n",
       "    .dataframe tbody tr th:only-of-type {\n",
       "        vertical-align: middle;\n",
       "    }\n",
       "\n",
       "    .dataframe tbody tr th {\n",
       "        vertical-align: top;\n",
       "    }\n",
       "\n",
       "    .dataframe thead th {\n",
       "        text-align: right;\n",
       "    }\n",
       "</style>\n",
       "<table border=\"1\" class=\"dataframe\">\n",
       "  <thead>\n",
       "    <tr style=\"text-align: right;\">\n",
       "      <th></th>\n",
       "      <th>relation</th>\n",
       "      <th>display_relation</th>\n",
       "      <th>x_index</th>\n",
       "      <th>x_id</th>\n",
       "      <th>x_type</th>\n",
       "      <th>x_name</th>\n",
       "      <th>x_source</th>\n",
       "      <th>y_index</th>\n",
       "      <th>y_id</th>\n",
       "      <th>y_type</th>\n",
       "      <th>y_name</th>\n",
       "      <th>y_source</th>\n",
       "    </tr>\n",
       "  </thead>\n",
       "  <tbody>\n",
       "    <tr>\n",
       "      <th>0</th>\n",
       "      <td>protein_protein</td>\n",
       "      <td>ppi</td>\n",
       "      <td>0</td>\n",
       "      <td>9796</td>\n",
       "      <td>gene/protein</td>\n",
       "      <td>PHYHIP</td>\n",
       "      <td>NCBI</td>\n",
       "      <td>8889</td>\n",
       "      <td>56992</td>\n",
       "      <td>gene/protein</td>\n",
       "      <td>KIF15</td>\n",
       "      <td>NCBI</td>\n",
       "    </tr>\n",
       "    <tr>\n",
       "      <th>1</th>\n",
       "      <td>protein_protein</td>\n",
       "      <td>ppi</td>\n",
       "      <td>1</td>\n",
       "      <td>7918</td>\n",
       "      <td>gene/protein</td>\n",
       "      <td>GPANK1</td>\n",
       "      <td>NCBI</td>\n",
       "      <td>2798</td>\n",
       "      <td>9240</td>\n",
       "      <td>gene/protein</td>\n",
       "      <td>PNMA1</td>\n",
       "      <td>NCBI</td>\n",
       "    </tr>\n",
       "    <tr>\n",
       "      <th>2</th>\n",
       "      <td>protein_protein</td>\n",
       "      <td>ppi</td>\n",
       "      <td>2</td>\n",
       "      <td>8233</td>\n",
       "      <td>gene/protein</td>\n",
       "      <td>ZRSR2</td>\n",
       "      <td>NCBI</td>\n",
       "      <td>5646</td>\n",
       "      <td>23548</td>\n",
       "      <td>gene/protein</td>\n",
       "      <td>TTC33</td>\n",
       "      <td>NCBI</td>\n",
       "    </tr>\n",
       "    <tr>\n",
       "      <th>3</th>\n",
       "      <td>protein_protein</td>\n",
       "      <td>ppi</td>\n",
       "      <td>3</td>\n",
       "      <td>4899</td>\n",
       "      <td>gene/protein</td>\n",
       "      <td>NRF1</td>\n",
       "      <td>NCBI</td>\n",
       "      <td>11592</td>\n",
       "      <td>11253</td>\n",
       "      <td>gene/protein</td>\n",
       "      <td>MAN1B1</td>\n",
       "      <td>NCBI</td>\n",
       "    </tr>\n",
       "    <tr>\n",
       "      <th>4</th>\n",
       "      <td>protein_protein</td>\n",
       "      <td>ppi</td>\n",
       "      <td>4</td>\n",
       "      <td>5297</td>\n",
       "      <td>gene/protein</td>\n",
       "      <td>PI4KA</td>\n",
       "      <td>NCBI</td>\n",
       "      <td>2122</td>\n",
       "      <td>8601</td>\n",
       "      <td>gene/protein</td>\n",
       "      <td>RGS20</td>\n",
       "      <td>NCBI</td>\n",
       "    </tr>\n",
       "  </tbody>\n",
       "</table>\n",
       "</div>"
      ],
      "text/plain": [
       "          relation display_relation  x_index  x_id        x_type  x_name  \\\n",
       "0  protein_protein              ppi        0  9796  gene/protein  PHYHIP   \n",
       "1  protein_protein              ppi        1  7918  gene/protein  GPANK1   \n",
       "2  protein_protein              ppi        2  8233  gene/protein   ZRSR2   \n",
       "3  protein_protein              ppi        3  4899  gene/protein    NRF1   \n",
       "4  protein_protein              ppi        4  5297  gene/protein   PI4KA   \n",
       "\n",
       "  x_source  y_index   y_id        y_type  y_name y_source  \n",
       "0     NCBI     8889  56992  gene/protein   KIF15     NCBI  \n",
       "1     NCBI     2798   9240  gene/protein   PNMA1     NCBI  \n",
       "2     NCBI     5646  23548  gene/protein   TTC33     NCBI  \n",
       "3     NCBI    11592  11253  gene/protein  MAN1B1     NCBI  \n",
       "4     NCBI     2122   8601  gene/protein   RGS20     NCBI  "
      ]
     },
     "execution_count": 8,
     "metadata": {},
     "output_type": "execute_result"
    }
   ],
   "source": [
    "data.head()"
   ]
  },
  {
   "cell_type": "code",
   "execution_count": 9,
   "id": "054afa2d-89a0-42df-bba9-84b472560632",
   "metadata": {},
   "outputs": [
    {
     "name": "stdout",
     "output_type": "stream",
     "text": [
      "['protein_protein' 'drug_protein' 'contraindication' 'indication'\n",
      " 'off-label use' 'drug_drug' 'phenotype_protein' 'phenotype_phenotype'\n",
      " 'disease_phenotype_negative' 'disease_phenotype_positive'\n",
      " 'disease_protein' 'disease_disease' 'drug_effect' 'bioprocess_bioprocess'\n",
      " 'molfunc_molfunc' 'cellcomp_cellcomp' 'molfunc_protein'\n",
      " 'cellcomp_protein' 'bioprocess_protein' 'exposure_protein'\n",
      " 'exposure_disease' 'exposure_exposure' 'exposure_bioprocess'\n",
      " 'exposure_molfunc' 'exposure_cellcomp' 'pathway_pathway'\n",
      " 'pathway_protein' 'anatomy_anatomy' 'anatomy_protein_present'\n",
      " 'anatomy_protein_absent']\n",
      "30\n"
     ]
    }
   ],
   "source": [
    "print(data['relation'].unique())\n",
    "print(len(data['relation'].unique()))\n"
   ]
  },
  {
   "cell_type": "code",
   "execution_count": null,
   "id": "4a0bbc06-37bc-44d0-a46a-fda802c02223",
   "metadata": {},
   "outputs": [],
   "source": []
  },
  {
   "cell_type": "code",
   "execution_count": null,
   "id": "2eca5eb0-787b-4ce0-b9bc-a1068a2965a1",
   "metadata": {},
   "outputs": [],
   "source": [
    "NEO4J_URI=\n",
    "NEO4J_USERNAME=neo4j\n",
    "NEO4J_PASSWORD=\n",
    "AURA_INSTANCEID=e20d126f\n",
    "AURA_INSTANCENAME=Instance02"
   ]
  },
  {
   "cell_type": "code",
   "execution_count": 22,
   "id": "d5a1b44b-7059-4052-90d5-599c79d44cd7",
   "metadata": {},
   "outputs": [
    {
     "name": "stdout",
     "output_type": "stream",
     "text": [
      "Connection successful!\n"
     ]
    }
   ],
   "source": [
    "from neo4j import GraphDatabase\n",
    "\n",
    "uri = \"neo4j+ssc://e20d126f.databases.neo4j.io\"\n",
    "user = \"neo4j\"\n",
    "password = \"MX-lvMm1vPsqUXKK56xZyJj1i-zyu-fEBqWq-Ex8cdM\"\n",
    "\n",
    "try:\n",
    "    driver = GraphDatabase.driver(uri, auth=(user, password))\n",
    "    with driver.session() as session:\n",
    "        result = session.run(\"RETURN 'Connection successful!' AS message\")\n",
    "        for record in result:\n",
    "            print(record[\"message\"])\n",
    "except Exception as e:\n",
    "    print(f\"Error: {e}\")\n",
    "finally:\n",
    "    driver.close()"
   ]
  },
  {
   "cell_type": "code",
   "execution_count": null,
   "id": "8590357b-a307-4500-a815-75ff15192d75",
   "metadata": {},
   "outputs": [
    {
     "name": "stdout",
     "output_type": "stream",
     "text": [
      "<__main__.Neo4jConnection object at 0x00000236943DFA70>\n"
     ]
    }
   ],
   "source": [
    "from neo4j import GraphDatabase\n",
    "import pandas as pd\n",
    "\n",
    "# Connect to the Neo4j database\n",
    "class Neo4jConnection:\n",
    "    def __init__(self, uri, user, password):\n",
    "        self._driver = GraphDatabase.driver(uri, auth=(user, password))\n",
    "    \n",
    "    def close(self):\n",
    "        self._driver.close()\n",
    "    \n",
    "    def query(self, query, parameters=None):\n",
    "        with self._driver.session() as session:\n",
    "            return session.run(query, parameters)\n",
    "\n",
    "\n",
    "# Connect to your Neo4j instance (update with your credentials)\n",
    "conn = Neo4jConnection(uri=\"neo4j+ssc://e20d126f.databases.neo4j.io\", user=\"neo4j\", password=\"MX-lvMm1vPsqUXKK56xZyJj1i-zyu-fEBqWq-Ex8cdM\")\n",
    "\n",
    "# Load the CSV file into a Pandas DataFrame\n",
    "print(conn)\n",
    "length=len(data.iterrows())\n",
    "# Create nodes and relationships in Neo4j\n",
    "for index, row in data.iterrows():\n",
    "    if length%500==0:\n",
    "        print(f\"{index}/{length}\")\n",
    "    # Create nodes for 'x' entities\n",
    "    conn.query(\n",
    "        \"\"\"\n",
    "        MERGE (x:Entity {name: $x_name})\n",
    "        SET x.type = $x_type, x.source = $x_source\n",
    "        \"\"\",\n",
    "        parameters={\n",
    "            \"x_name\": row[\"x_name\"],\n",
    "            \"x_type\": row[\"x_type\"],\n",
    "            \"x_source\": row[\"x_source\"],\n",
    "        },\n",
    "    )\n",
    "    \n",
    "    # Create nodes for 'y' entities\n",
    "    conn.query(\n",
    "        \"\"\"\n",
    "        MERGE (y:Entity {name: $y_name})\n",
    "        SET y.type = $y_type, y.source = $y_source\n",
    "        \"\"\",\n",
    "        parameters={\n",
    "            \"y_name\": row[\"y_name\"],\n",
    "            \"y_type\": row[\"y_type\"],\n",
    "            \"y_source\": row[\"y_source\"],\n",
    "        },\n",
    "    )\n",
    "\n",
    "    \n",
    "    # Create relationships between 'x' and 'y'\n",
    "    conn.query(\n",
    "        \"\"\"\n",
    "        MATCH (x:Entity {name: $x_name}), (y:Entity {name: $y_name})\n",
    "        MERGE (x)-[r:RELATION {type: $relation}]->(y)\n",
    "        \"\"\",\n",
    "        parameters={\n",
    "            \"x_name\": row[\"x_name\"],\n",
    "            \"y_name\": row[\"y_name\"],\n",
    "            \"relation\": row[\"display_relation\"],\n",
    "        },\n",
    "    )\n",
    "\n",
    "print(\"Knowledge graph successfully created!\")\n",
    "\n",
    "# Close the connection\n",
    "conn.close()\n"
   ]
  },
  {
   "cell_type": "code",
   "execution_count": null,
   "id": "0109d518-560a-4dfb-b76d-d2766385f532",
   "metadata": {},
   "outputs": [],
   "source": []
  }
 ],
 "metadata": {
  "kernelspec": {
   "display_name": "Python 3 (ipykernel)",
   "language": "python",
   "name": "python3"
  },
  "language_info": {
   "codemirror_mode": {
    "name": "ipython",
    "version": 3
   },
   "file_extension": ".py",
   "mimetype": "text/x-python",
   "name": "python",
   "nbconvert_exporter": "python",
   "pygments_lexer": "ipython3",
   "version": "3.12.7"
  }
 },
 "nbformat": 4,
 "nbformat_minor": 5
}
